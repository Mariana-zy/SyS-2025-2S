{
  "cells": [
    {
      "cell_type": "markdown",
      "metadata": {
        "id": "view-in-github",
        "colab_type": "text"
      },
      "source": [
        "<a href=\"https://colab.research.google.com/github/Mariana-zy/SyS-2025-2S/blob/main/Cuadernos_Python.ipynb\" target=\"_parent\"><img src=\"https://colab.research.google.com/assets/colab-badge.svg\" alt=\"Open In Colab\"/></a>"
      ]
    },
    {
      "cell_type": "markdown",
      "source": [
        "**Cuaderno 1: Variables**"
      ],
      "metadata": {
        "id": "ips4oy7VI0fr"
      }
    },
    {
      "cell_type": "markdown",
      "source": [
        "1. Escriba un programa que muestre el resultado de la siguiente operación aritmética en la pantalla: x(t)=(3+22.5)2"
      ],
      "metadata": {
        "id": "I1KthFdDIeli"
      }
    },
    {
      "cell_type": "code",
      "source": [
        "print((3 + 22.5) * 2)"
      ],
      "metadata": {
        "id": "3FXHkmeTF7V5",
        "outputId": "cc60005f-ebe6-4bd6-d676-2543942aa93a",
        "colab": {
          "base_uri": "https://localhost:8080/"
        }
      },
      "execution_count": null,
      "outputs": [
        {
          "output_type": "stream",
          "name": "stdout",
          "text": [
            "51.0\n"
          ]
        }
      ]
    },
    {
      "cell_type": "markdown",
      "source": [
        "2. Escriba un programa que pregunte al usuario el número de horas trabajadas y la tarifa por hora. Luego, deberá mostrar en pantalla el pago correspondiente"
      ],
      "metadata": {
        "id": "27WgdHEOIzzv"
      }
    },
    {
      "cell_type": "code",
      "source": [
        "horas = input('Ingrese el número de horas trabajadas: ')\n",
        "tarifa = input('Ingrese la tarifa por hora: ')\n",
        "print('El pago correspondiente es', int(horas)*int(tarifa))"
      ],
      "metadata": {
        "id": "fWklAzNVIYou",
        "colab": {
          "base_uri": "https://localhost:8080/"
        },
        "outputId": "25ffaca0-4d5a-4bd6-8769-48235d0f8acb"
      },
      "execution_count": null,
      "outputs": [
        {
          "output_type": "stream",
          "name": "stdout",
          "text": [
            "Ingrese el número de horas trabajadas: 60\n",
            "Ingrese la tarifa por hora: 5000\n",
            "El pago correspondiente es 300000\n"
          ]
        }
      ]
    },
    {
      "cell_type": "markdown",
      "source": [
        "3. Escriba un programa que pregunte al usuario su peso (en kg) y altura (en metros), calcule el índice de masa corporal (IMC), lo almacene en una variable y muestre el mensaje \"Su índice de masa corporal es imc\" en la pantalla, donde imc es el IMC calculado redondeado a dos decimales."
      ],
      "metadata": {
        "id": "RkbCtbu5JCTT"
      }
    },
    {
      "cell_type": "code",
      "source": [
        "peso_kg = input('Ingrese su peso (en kg): ')\n",
        "altura_m = input('Ingrese su altura (en metros): ' )\n",
        "imc = round((int(peso_kg)/float((altura_m))**2), 2)\n",
        "print('Su índice de masa corporal (imc):', imc)"
      ],
      "metadata": {
        "colab": {
          "base_uri": "https://localhost:8080/"
        },
        "id": "x9gpyU-_IaHD",
        "outputId": "95c35744-6bb1-4c99-c321-8a1dbcf0be6f"
      },
      "execution_count": null,
      "outputs": [
        {
          "output_type": "stream",
          "name": "stdout",
          "text": [
            "Ingrese su peso (en kg): 56\n",
            "Ingrese su altura (en metros): 1.68\n",
            "Su índice de masa corporal (imc): 19.84\n"
          ]
        }
      ]
    },
    {
      "cell_type": "markdown",
      "source": [
        "**Cuaderno 2: Condicionales**"
      ],
      "metadata": {
        "id": "_rn3RsdrGUnj"
      }
    },
    {
      "cell_type": "markdown",
      "source": [
        "1. Para poder pagar un determinado impuesto es necesario ser mayor de 16 años y tener unos ingresos mensuales iguales o superiores a 1000€. Escriba un programa que pregunte al usuario su edad e ingresos mensuales y muestre si el usuario tiene que pagar el impuesto o no."
      ],
      "metadata": {
        "id": "SpUopRQFGZna"
      }
    },
    {
      "cell_type": "code",
      "source": [
        "edad = input('Ingrese su edad: ')\n",
        "ingresos = input('Ingrese sus ingresos mensuales: ')\n",
        "if int(edad) > 16 and int(ingresos) >= 1000:\n",
        "  print('El usuario tiene que pagar el impuesto')\n",
        "else:\n",
        "  print('El usuario no tiene que pagar el impuesto')"
      ],
      "metadata": {
        "id": "MkglkeeXG534",
        "colab": {
          "base_uri": "https://localhost:8080/"
        },
        "outputId": "43bc7838-ec3d-4b59-9ad6-0d215bf3191f"
      },
      "execution_count": null,
      "outputs": [
        {
          "output_type": "stream",
          "name": "stdout",
          "text": [
            "Ingrese su edad: 25\n",
            "Ingrese sus ingresos mensuales: 1100\n",
            "El usuario tiene que pagar el impuesto\n"
          ]
        }
      ]
    },
    {
      "cell_type": "markdown",
      "source": [
        "2. La pizzería Bella Napoli ofrece pizzas vegetarianas y no vegetarianas a sus clientes. Los ingredientes para cada tipo de pizza son los siguientes:\n",
        "\n",
        "Ingredientes vegetarianos: Pimientos morrones y tofu.\n",
        "Ingredientes no vegetarianos: pepperoni, jamón y salmón.\n",
        "\n",
        "Escribe un programa que pregunte al usuario si quiere una pizza vegetariana o no y, en función de su respuesta, muestre un menú con los ingredientes disponibles para que elija. Sólo se puede elegir un ingrediente adicional además de la mozzarella y el tomate, que están incluidos en todas las pizzas. Finalmente, el programa deberá mostrar si la pizza elegida es vegetariana o no, junto con todos los ingredientes que contiene.\n"
      ],
      "metadata": {
        "id": "YzZiynW-Gukq"
      }
    },
    {
      "cell_type": "code",
      "source": [
        "veg = input('Pizza vegetariana o de carnes: ')\n",
        "if veg == 'vegetariana':\n",
        "  ing = input('Ingrediente adicional -> Escoja una opción: pimientos morrones o tofu: ' )\n",
        "else:\n",
        "  ing = input('Ingrediente adicional -> Escoja una opción: peroni, jamón y salmón:' )\n",
        "print(f'Su selección es: pizza {veg} con mozzarella, tomate y {ing}')\n"
      ],
      "metadata": {
        "id": "XiTsV4CNGSEf",
        "colab": {
          "base_uri": "https://localhost:8080/"
        },
        "outputId": "50ddc130-47d4-4b42-b6c2-ed4bf6a5ec63"
      },
      "execution_count": null,
      "outputs": [
        {
          "output_type": "stream",
          "name": "stdout",
          "text": [
            "Pizza vegetariana o de carnes: vegetariana\n",
            "Ingrediente adicional -> Escoja una opción: pimientos morrones o tofu: pimientos morrones\n",
            "Su selección es: pizza vegetariana con mozzarella, tomate y pimientos morrones\n"
          ]
        }
      ]
    },
    {
      "cell_type": "markdown",
      "source": [
        "**3. Ciclos**"
      ],
      "metadata": {
        "id": "NYJ3kv2aMRhj"
      }
    },
    {
      "cell_type": "markdown",
      "source": [
        "Escriba un código que le solicite al usuario que ingrese un número entero cada vez, y el proceso se repetirá con más números hasta que el usuario ingrese un cero. Al final (cuando se ingresa el cero), muestra la cantidad de números ingresados.\n",
        "\n"
      ],
      "metadata": {
        "id": "6Es2xdxgQQmD"
      }
    },
    {
      "cell_type": "code",
      "source": [
        "ent = int(input('Ingrese un número entero o 0 para terminar: '))\n",
        "cont = 0\n",
        "while ent !=0:\n",
        "  cont += 1\n",
        "  ent = int(input('Ingrese un número entero o 0 para terminar: '))\n",
        "print('Cantidad de números ingresados:', cont)"
      ],
      "metadata": {
        "id": "WGhmNVMZQDk7",
        "colab": {
          "base_uri": "https://localhost:8080/"
        },
        "outputId": "01d86165-cd8c-41a0-a6ba-208cdea25842"
      },
      "execution_count": null,
      "outputs": [
        {
          "output_type": "stream",
          "name": "stdout",
          "text": [
            "Ingrese un número entero o 0 para terminar: 1\n",
            "Ingrese un número entero o 0 para terminar: 2\n",
            "Ingrese un número entero o 0 para terminar: 3\n",
            "Ingrese un número entero o 0 para terminar: 4\n",
            "Ingrese un número entero o 0 para terminar: 5\n",
            "Ingrese un número entero o 0 para terminar: 6\n",
            "Ingrese un número entero o 0 para terminar: 7\n",
            "Ingrese un número entero o 0 para terminar: 8\n",
            "Ingrese un número entero o 0 para terminar: 9\n",
            "Ingrese un número entero o 0 para terminar: 0\n",
            "Cantidad de números ingresados: 9\n"
          ]
        }
      ]
    },
    {
      "cell_type": "markdown",
      "source": [
        "2. Utilice la función input() para pedirle al usuario que ingrese un número entero. Sólo si el número es par se acumulará. El programa debe finalizar si la suma de los números supera 50 o si el usuario introduce un máximo de 10 números."
      ],
      "metadata": {
        "id": "LfkSH-AJQD6n"
      }
    },
    {
      "cell_type": "code",
      "source": [
        "ent = int(input('Ingrese un número entero: '))\n",
        "suma = 0\n",
        "cont = 0\n",
        "while True:\n",
        "  cont +=1\n",
        "  if ent % 2 == 0:\n",
        "    suma += ent\n",
        "  if suma > 50 or cont == 10:\n",
        "    break\n",
        "  ent = int(input('Ingrese otro número entero: '))\n",
        "\n",
        "print('Suma de los números pares: ', suma)"
      ],
      "metadata": {
        "id": "qbvLdrHpR0pU",
        "colab": {
          "base_uri": "https://localhost:8080/"
        },
        "outputId": "9d7811fd-072a-4b64-f841-65e08bac7bbd"
      },
      "execution_count": null,
      "outputs": [
        {
          "output_type": "stream",
          "name": "stdout",
          "text": [
            "Ingrese un número entero: 10\n",
            "Ingrese otro número entero: 30\n",
            "Ingrese otro número entero: 20\n",
            "Suma de los números pares:  60\n"
          ]
        }
      ]
    },
    {
      "cell_type": "markdown",
      "source": [
        "**4. Introduccion numpy**"
      ],
      "metadata": {
        "id": "LLiVgMgRTRc_"
      }
    },
    {
      "cell_type": "markdown",
      "source": [
        "Recorrer arreglo al revés"
      ],
      "metadata": {
        "id": "uXbIsIam7LnC"
      }
    },
    {
      "cell_type": "code",
      "source": [
        "import numpy as np\n",
        "\n",
        "xv= np.array([[1,2,3],[2,3,4],[4,5,6],[7,8,9]])\n",
        "xv[::-1, ::-1]         # filas, columnas, pasos"
      ],
      "metadata": {
        "id": "V9EKXQsFTQ4M",
        "colab": {
          "base_uri": "https://localhost:8080/"
        },
        "outputId": "cd2b1d96-c7ee-470a-d458-3141f610e46c"
      },
      "execution_count": null,
      "outputs": [
        {
          "output_type": "execute_result",
          "data": {
            "text/plain": [
              "array([[9, 8, 7],\n",
              "       [6, 5, 4],\n",
              "       [4, 3, 2],\n",
              "       [3, 2, 1]])"
            ]
          },
          "metadata": {},
          "execution_count": 194
        }
      ]
    },
    {
      "cell_type": "markdown",
      "source": [
        "**5. Funciones**"
      ],
      "metadata": {
        "id": "mxK3Ay7MoBo7"
      }
    },
    {
      "cell_type": "markdown",
      "source": [
        "1. El área de un triángulo se puede calcular conociendo la longitud de sus lados. Considerando que s1, s2 y s3 ​​son las longitudes de los lados del triángulo, se puede calcular el subperímetro s = (s1+s2+s3)/2 y, con este valor, se puede calcular el área del triángulo mediante la siguiente fórmula: área = √( s * (s-s1) * (s-s2) * (s-s3) ).\n",
        "\n",
        "Crea una función que tome la longitud de los lados del triángulo y devuelva el área del triángulo, redondeada a un decimal.El módulo de matemáticas puede ayudarte a calcular la raíz cuadrada.\n"
      ],
      "metadata": {
        "id": "t21Z2w3yq0Hl"
      }
    },
    {
      "cell_type": "code",
      "source": [
        "from math import sqrt\n",
        "def area(s1, s2, s3):\n",
        "  s =  (s1+s2+s3)/2\n",
        "  a = sqrt((s*(s-s1)*(s-s2)*(s-s3)))\n",
        "  return round(a, 1)\n",
        "\n",
        "area(3,4,5)"
      ],
      "metadata": {
        "id": "UgV4F8oHrAUH",
        "colab": {
          "base_uri": "https://localhost:8080/"
        },
        "outputId": "d34b0d3a-dcac-4377-c63f-29ff57caee53"
      },
      "execution_count": null,
      "outputs": [
        {
          "output_type": "execute_result",
          "data": {
            "text/plain": [
              "6.0"
            ]
          },
          "metadata": {},
          "execution_count": 195
        }
      ]
    },
    {
      "cell_type": "markdown",
      "source": [
        "2.\n",
        "Crea una función que calcule el índice de masa corporal (IMC) de una persona.\n",
        "\n",
        "La fórmula para calcular el IMC es la siguiente:\n",
        "IMC = peso/(altura^2)\n",
        "\n",
        "En esta fórmula, el peso se expresa en kilogramos y la altura en metros. Ten en cuenta que el peso y la altura que recibirá tu función se expresarán en libras y pulgadas, respectivamente, ya que se utilizará en Estados Unidos.\n",
        "\n",
        "Recuerda que:\n",
        "\n",
        "1 libra corresponde a 0,45 kg.\n",
        "\n",
        "1 pulgada corresponde a 0,025 metros.\n",
        "\n",
        "\n",
        "El valor de retorno debe redondearse a dos decimales."
      ],
      "metadata": {
        "id": "SK3YnKo7q5p-"
      }
    },
    {
      "cell_type": "code",
      "source": [
        "def imc(peso_lb, altura_in):\n",
        "  peso_kg = peso_lb*0.45\n",
        "  altura_m = altura_in*0.025\n",
        "  imc = round((peso_kg/altura_m**2), 2)\n",
        "  return imc\n",
        "\n",
        "print(imc(150, 65))  # 150 lb, 65 pulgadas\n",
        "\n"
      ],
      "metadata": {
        "colab": {
          "base_uri": "https://localhost:8080/"
        },
        "id": "M1IlZNzys-3n",
        "outputId": "24c7ea0c-678a-401a-92fa-4d6a8361bd9c"
      },
      "execution_count": null,
      "outputs": [
        {
          "output_type": "stream",
          "name": "stdout",
          "text": [
            "25.56\n"
          ]
        }
      ]
    },
    {
      "cell_type": "markdown",
      "source": [
        "**6. Listas**"
      ],
      "metadata": {
        "id": "lVN53UAH7BLQ"
      }
    },
    {
      "cell_type": "markdown",
      "source": [
        "1. Escribe una función que tome una lista de números como entrada y devuelva la suma de todos los números impares de la lista. Por ejemplo, si la entrada es [1, 2, 3, 4, 5, 6], la función debería devolver 9 (que es la suma de 1, 3 y 5)."
      ],
      "metadata": {
        "id": "T_KT3DwiIoHz"
      }
    },
    {
      "cell_type": "code",
      "source": [
        "def sum_impar(lista):\n",
        "  suma = 0\n",
        "  for i in lista:\n",
        "    if i%2 != 0:\n",
        "      suma += i\n",
        "  return suma\n",
        "\n",
        "print(sum_impar([1, 2, 3, 4, 5, 6]))"
      ],
      "metadata": {
        "colab": {
          "base_uri": "https://localhost:8080/"
        },
        "id": "Zpv3Y81vJC8z",
        "outputId": "8c319b7c-ebbf-489e-cd68-c41321b777c6"
      },
      "execution_count": null,
      "outputs": [
        {
          "output_type": "stream",
          "name": "stdout",
          "text": [
            "9\n"
          ]
        }
      ]
    },
    {
      "cell_type": "markdown",
      "source": [
        "2. Escribe una función que tome una lista de palabras como entrada y devuelva un diccionario que cuente el número de veces que aparece cada palabra en la lista. Por ejemplo, si la entrada es ['manzana', 'plátano', 'manzana', 'cereza', 'cereza', 'cereza'], la función debería devolver {'manzana': 2, 'plátano': 1, 'cereza': 3}."
      ],
      "metadata": {
        "id": "MSBP5KMoInbo"
      }
    },
    {
      "cell_type": "code",
      "source": [
        "def palaba_diccionario(lista):\n",
        "  diccionario = {}\n",
        "  for i in lista:\n",
        "    if i in diccionario:\n",
        "      diccionario[i] += 1\n",
        "    else:\n",
        "      diccionario[i] = 1\n",
        "  return diccionario\n",
        "\n",
        "print(palaba_diccionario(['manzana', 'plátano', 'manzana', 'cereza', 'cereza', 'cereza']))\n"
      ],
      "metadata": {
        "colab": {
          "base_uri": "https://localhost:8080/"
        },
        "id": "q793H9Rj7DRq",
        "outputId": "a78b457d-2a91-423f-ad9e-b2b6299fc78e"
      },
      "execution_count": null,
      "outputs": [
        {
          "output_type": "stream",
          "name": "stdout",
          "text": [
            "{'manzana': 2, 'plátano': 1, 'cereza': 3}\n"
          ]
        }
      ]
    },
    {
      "cell_type": "markdown",
      "source": [
        "7. Clases"
      ],
      "metadata": {
        "id": "QbjW9dXmKHNh"
      }
    },
    {
      "cell_type": "markdown",
      "source": [
        "1. Crea una clase \"Persona\" que tenga atributos como nombre, edad, género y métodos para presentarse y saludar a otras personas.\n",
        "\n"
      ],
      "metadata": {
        "id": "mqBzCd3SUhYy"
      }
    },
    {
      "cell_type": "code",
      "source": [
        "class Persona:\n",
        "  def __init__(self, nombre, edad, genero):\n",
        "    self.nombre = nombre\n",
        "    self.edad = edad\n",
        "    self.genero = genero\n",
        "  def presentarse(self):\n",
        "    print(f'Hola, mi nombre es {self.nombre}, tengo {self.edad} años y soy {self.genero}')\n",
        "\n",
        "persona1 = Persona('Juan', 25, 'hombre')\n",
        "persona1.presentarse()"
      ],
      "metadata": {
        "colab": {
          "base_uri": "https://localhost:8080/"
        },
        "id": "tgE3Ynf_UuZk",
        "outputId": "5328b8f5-1c4b-4f7c-fe61-8a43b01a9fd8"
      },
      "execution_count": null,
      "outputs": [
        {
          "output_type": "stream",
          "name": "stdout",
          "text": [
            "Hola, mi nombre es Juan, tengo 25 años y soy hombre\n"
          ]
        }
      ]
    },
    {
      "cell_type": "markdown",
      "source": [
        "2. Crea una clase \"Coche\" que tenga atributos como marca, modelo, año, kilometraje y métodos para arrancar, acelerar y frenar."
      ],
      "metadata": {
        "id": "BGnHLlcSUm0a"
      }
    },
    {
      "cell_type": "code",
      "source": [
        "class Coche:\n",
        "  def __init__(self, marca, modelo, año, kilometraje):\n",
        "    self.marca = marca\n",
        "    self.modelo = modelo\n",
        "    self.año = año\n",
        "    self.kilometraje = kilometraje\n",
        "  def arrancar(self):\n",
        "    print(f'El coche {self.marca} {self.modelo} del año {self.año} ha arrancado')\n",
        "  def acelerar(self):\n",
        "    print(f'El coche {self.marca} {self.modelo} del año {self.año} ha acelerado')\n",
        "  def frenar(self):\n",
        "    print(f'El coche {self.marca} {self.modelo} del año {self.año} ha frenado')\n",
        "\n",
        "coche1 = Coche('Toyota', 'Corolla', 2020, 10000)\n",
        "coche1.arrancar()\n",
        "coche1.acelerar()\n",
        "coche1.frenar()"
      ],
      "metadata": {
        "colab": {
          "base_uri": "https://localhost:8080/"
        },
        "id": "kyYSyDIaUuta",
        "outputId": "38a1bc92-cff3-4767-afa1-f17ea6e99431"
      },
      "execution_count": null,
      "outputs": [
        {
          "output_type": "stream",
          "name": "stdout",
          "text": [
            "El coche Toyota Corolla del año 2020 ha arrancado\n",
            "El coche Toyota Corolla del año 2020 ha acelerado\n",
            "El coche Toyota Corolla del año 2020 ha frenado\n"
          ]
        }
      ]
    },
    {
      "cell_type": "markdown",
      "source": [
        "3. Crea una clase \"Rectángulo\" que tenga atributos como longitud y ancho y métodos para calcular el área y el perímetro."
      ],
      "metadata": {
        "id": "Bm7_72QLUpN5"
      }
    },
    {
      "cell_type": "code",
      "source": [
        "class Rectangulo:\n",
        "  def __init__(self, longitud, ancho):\n",
        "    self.longitud = longitud\n",
        "    self.ancho = ancho\n",
        "  def area(self):\n",
        "    print('El perímetro del reactángulo es:', self.longitud * self.ancho)\n",
        "  def perimetro(self):\n",
        "    print('El área del rectángulo es:', 2 * (self.longitud + self.ancho))\n",
        "\n",
        "rectangulo1 = Rectangulo(5, 10)\n",
        "rectangulo1.area()\n",
        "rectangulo1.perimetro()"
      ],
      "metadata": {
        "colab": {
          "base_uri": "https://localhost:8080/"
        },
        "id": "j4fSH8eCUvHO",
        "outputId": "bf6d16a2-c014-4cc7-fa17-197b26d1db54"
      },
      "execution_count": null,
      "outputs": [
        {
          "output_type": "stream",
          "name": "stdout",
          "text": [
            "El perímetro del reactángulo es: 50\n",
            "El área del rectángulo es: 30\n"
          ]
        }
      ]
    },
    {
      "cell_type": "markdown",
      "source": [
        "4. Crea una clase \"Banco\" que tenga atributos como nombre, dirección y métodos para abrir una cuenta, depositar dinero, retirar dinero y revisar el saldo.\n",
        "\n"
      ],
      "metadata": {
        "id": "tscWQnCpUrfb"
      }
    },
    {
      "cell_type": "code",
      "source": [
        "class Banco:\n",
        "  def __init__(self, nombre, direccion):\n",
        "    self.nombre = nombre\n",
        "    self.direccion = direccion\n",
        "  def abrir_cuenta(self):\n",
        "    print(f'El banco {self.nombre} ha abierto una cuenta en la dirección {self.direccion}')\n",
        "  def depositar_dinero(self):\n",
        "    print(f'El banco {self.nombre} ha depositado dinero en la dirección {self.direccion}')\n",
        "  def retirar_dinero(self):\n",
        "    print(f'El banco {self.nombre} ha retirado dinero en la dirección {self.direccion}')\n",
        "  def revisar_saldo(self):\n",
        "    print(f'El banco {self.nombre} ha revisado el saldo en la dirección {self.direccion}')\n",
        "\n",
        "banco1 = Banco('Banco de la Nación', '12345')\n",
        "banco1.abrir_cuenta()\n",
        "banco1.depositar_dinero()\n",
        "banco1.retirar_dinero()\n",
        "banco1.revisar_saldo()"
      ],
      "metadata": {
        "colab": {
          "base_uri": "https://localhost:8080/"
        },
        "id": "VsyDCRCSUvhF",
        "outputId": "3dc5cf3a-f0bb-4408-cbca-fba84a60bdc0"
      },
      "execution_count": null,
      "outputs": [
        {
          "output_type": "stream",
          "name": "stdout",
          "text": [
            "El banco Banco de la Nación ha abierto una cuenta en la dirección 12345\n",
            "El banco Banco de la Nación ha depositado dinero en la dirección 12345\n",
            "El banco Banco de la Nación ha retirado dinero en la dirección 12345\n",
            "El banco Banco de la Nación ha revisado el saldo en la dirección 12345\n"
          ]
        }
      ]
    },
    {
      "cell_type": "markdown",
      "source": [
        "5. Crea una clase \"Estudiante\" que tenga atributos como nombre, edad, promedio y métodos para estudiar, hacer tareas y presentar exámenes."
      ],
      "metadata": {
        "id": "-Gy0_y5KUtFl"
      }
    },
    {
      "cell_type": "code",
      "source": [
        "class Estudiante:\n",
        "  def __init__(self, nombre, edad, promedio):\n",
        "    self.nombre = nombre\n",
        "    self.edad = edad\n",
        "    self.promedio = promedio\n",
        "  def estudiar(self):\n",
        "    print(f'El estudiante {self.nombre} está estudiando')\n",
        "  def hacer_tareas(self):\n",
        "    print(f'El estudiante {self.nombre} está haciendo tareas')\n",
        "  def presentar_examenes(self):\n",
        "    print(f'El estudiante {self.nombre} está presentando exámenes')\n",
        "\n",
        "estudiante1 = Estudiante('José', 21, 4)\n",
        "estudiante1.estudiar()\n",
        "estudiante1.hacer_tareas()\n",
        "estudiante1.presentar_examenes()"
      ],
      "metadata": {
        "colab": {
          "base_uri": "https://localhost:8080/"
        },
        "id": "jKKKNY1dMRYo",
        "outputId": "8e9b645a-91f0-4507-fd66-85c60e0a5cf8"
      },
      "execution_count": null,
      "outputs": [
        {
          "output_type": "stream",
          "name": "stdout",
          "text": [
            "El estudiante José está estudiando\n",
            "El estudiante José está haciendo tareas\n",
            "El estudiante José está presentando exámenes\n"
          ]
        }
      ]
    },
    {
      "cell_type": "markdown",
      "source": [
        "**8. Herencias**"
      ],
      "metadata": {
        "id": "-HmB0UCMUy6A"
      }
    },
    {
      "cell_type": "markdown",
      "source": [
        "1. Crea un sistema de manejo de figuras geométricas utilizando clases y herencia. Debes tener una clase base llamada \"FiguraGeometrica\" con un método abstracto llamado \"calcular_area()\". Luego, crea clases derivadas para diferentes tipos de figuras geométricas, como \"Círculo\", \"Rectángulo\" y \"Triángulo\". Cada clase derivada debe implementar el método \"calcular_area()\" de acuerdo con la fórmula correspondiente para el cálculo del área de esa figura.\n",
        "\n"
      ],
      "metadata": {
        "id": "8utsKeBjc1V0"
      }
    },
    {
      "cell_type": "code",
      "source": [
        "class FiguraGeometrica:\n",
        "  def calcular_area(self):\n",
        "    pass\n",
        "class Circulo(FiguraGeometrica):\n",
        "  def __init__(self, radio):\n",
        "    self.radio = radio\n",
        "  def calcular_area(self):\n",
        "    print('El área del círculo es:', 3.14 * self.radio ** 2)\n",
        "class Rectangulo(FiguraGeometrica):\n",
        "  def __init__(self, base, altura):\n",
        "    self.base = base\n",
        "    self.altura = altura\n",
        "  def calcular_area(self):\n",
        "    print('El área del rectángulo es:', self.base * self.altura)\n",
        "class Triangulo(FiguraGeometrica):\n",
        "  def __init__(self, base, altura):\n",
        "    self.base = base\n",
        "    self.altura = altura\n",
        "  def calcular_area(self):\n",
        "    print('El área del triángulo es:', self.base * self.altura / 2)\n",
        "\n",
        "circulo1 = Circulo(2)\n",
        "circulo1.calcular_area()\n",
        "rectangulo1 = Rectangulo(2, 3)\n",
        "rectangulo1.calcular_area()\n",
        "triangulo1 = Triangulo(2, 3)\n",
        "triangulo1.calcular_area()\n"
      ],
      "metadata": {
        "colab": {
          "base_uri": "https://localhost:8080/"
        },
        "id": "pEmxNYrXZIBh",
        "outputId": "7f332c19-647d-4906-cf30-bb46e70f9c06"
      },
      "execution_count": null,
      "outputs": [
        {
          "output_type": "stream",
          "name": "stdout",
          "text": [
            "El área del círculo es: 12.56\n",
            "El área del rectángulo es: 6\n",
            "El área del triángulo es: 3.0\n"
          ]
        }
      ]
    },
    {
      "cell_type": "markdown",
      "source": [
        "2. Crea un sistema de reserva de vuelos utilizando clases y herencia. Debes tener una clase base llamada \"Vuelo\" con los siguientes atributos: número de vuelo, origen, destino, y capacidad máxima de pasajeros. Luego, crea una clase derivada llamada \"VueloEconomico\" que herede de la clase base y agregue un atributo adicional llamado \"tarifa\". Además, agrega métodos en ambas clases para mostrar la información del vuelo y realizar una reserva de asientos.\n",
        "\n",
        "La clase base \"Vuelo\" debe tener un método para verificar si hay asientos disponibles y otro para realizar la reserva de un asiento. La clase derivada \"VueloEconomico\" puede tener métodos adicionales para calcular el precio total de la reserva de acuerdo con la tarifa y la cantidad de asientos reservados."
      ],
      "metadata": {
        "id": "ByfLAsFMc45G"
      }
    },
    {
      "cell_type": "code",
      "source": [
        "class Vuelo:\n",
        "    def __init__(self, numero, origen, destino, capacidad):\n",
        "        self.numero = numero\n",
        "        self.origen = origen\n",
        "        self.destino = destino\n",
        "        self.capacidad = capacidad\n",
        "    def mostrar_info(self):\n",
        "        print(f\"Número de vuelo: {self.numero}\")\n",
        "        print(f\"Origen: {self.origen}\")\n",
        "        print(f\"Destino: {self.destino}\")\n",
        "        print(f\"Capacidad máxima de pasajeros: {self.capacidad}\")\n",
        "\n",
        "class VueloEconomico(Vuelo):\n",
        "    def __init__(self, numero, origen, destino, capacidad, tarifa):\n",
        "        super().__init__(numero, origen, destino, capacidad)\n",
        "        self.tarifa = tarifa\n",
        "    def mostrar_info(self):\n",
        "        super().mostrar_info()\n",
        "        print(f\"Tarifa: {self.tarifa}\")\n",
        "\n",
        "vuelo1 = Vuelo(635, 'Buenos Aires', 'Lima', 100)\n",
        "vuelo1.mostrar_info()\n",
        "\n",
        "\n"
      ],
      "metadata": {
        "colab": {
          "base_uri": "https://localhost:8080/"
        },
        "id": "dyrMXNo1c7PP",
        "outputId": "e2ea2dab-2274-47e7-913e-dcb197bbce08"
      },
      "execution_count": null,
      "outputs": [
        {
          "output_type": "stream",
          "name": "stdout",
          "text": [
            "Número de vuelo: 635\n",
            "Origen: Buenos Aires\n",
            "Destino: Lima\n",
            "Capacidad máxima de pasajeros: 100\n"
          ]
        }
      ]
    }
  ],
  "metadata": {
    "colab": {
      "provenance": [],
      "include_colab_link": true
    },
    "kernelspec": {
      "display_name": "Python 3",
      "name": "python3"
    }
  },
  "nbformat": 4,
  "nbformat_minor": 0
}